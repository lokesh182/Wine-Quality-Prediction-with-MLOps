{
 "cells": [
  {
   "cell_type": "code",
   "execution_count": 15,
   "metadata": {},
   "outputs": [],
   "source": [
    "import os"
   ]
  },
  {
   "cell_type": "code",
   "execution_count": 16,
   "metadata": {},
   "outputs": [
    {
     "data": {
      "text/plain": [
       "'d:\\\\ML PROJECTS\\\\Wine-Quality-Prediction-with-MLOps\\\\research'"
      ]
     },
     "execution_count": 16,
     "metadata": {},
     "output_type": "execute_result"
    }
   ],
   "source": [
    "%pwd"
   ]
  },
  {
   "cell_type": "code",
   "execution_count": 17,
   "metadata": {},
   "outputs": [],
   "source": [
    "os.chdir('d:\\\\ML PROJECTS\\\\Wine-Quality-Prediction-with-MLOps')"
   ]
  },
  {
   "cell_type": "code",
   "execution_count": null,
   "metadata": {},
   "outputs": [],
   "source": []
  },
  {
   "cell_type": "code",
   "execution_count": 18,
   "metadata": {},
   "outputs": [],
   "source": [
    "from dataclasses import dataclass\n",
    "from pathlib import Path\n",
    "\n",
    "\n",
    "@dataclass(frozen=True)\n",
    "class DataTransformationConfig:\n",
    "    root_dir: Path\n",
    "    data_path: Path"
   ]
  },
  {
   "cell_type": "code",
   "execution_count": null,
   "metadata": {},
   "outputs": [],
   "source": []
  },
  {
   "cell_type": "code",
   "execution_count": 19,
   "metadata": {},
   "outputs": [],
   "source": [
    "from WineQPrediction.constants import *\n",
    "from WineQPrediction.utils.common import read_yaml, create_directories\n",
    "class ConfigurationManager:\n",
    "    def __init__(\n",
    "        self,\n",
    "        config_filepath = CONFIG_FILE_PATH,\n",
    "        params_filepath = PARAMS_FILE_PATH,\n",
    "        schema_filepath = SCHEMA_FILE_PATH):\n",
    "\n",
    "        self.config = read_yaml(config_filepath)\n",
    "        self.params = read_yaml(params_filepath)\n",
    "        self.schema = read_yaml(schema_filepath)\n",
    "\n",
    "        create_directories([self.config.artifacts_root])\n",
    "\n",
    "\n",
    "    \n",
    "    def get_data_transformation_config(self) -> DataTransformationConfig:\n",
    "        config = self.config.data_transformation\n",
    "\n",
    "        create_directories([config.root_dir])\n",
    "\n",
    "        data_transformation_config = DataTransformationConfig(\n",
    "            root_dir=config.root_dir,\n",
    "            data_path=config.data_path,\n",
    "        )\n",
    "\n",
    "        return data_transformation_config"
   ]
  },
  {
   "cell_type": "code",
   "execution_count": null,
   "metadata": {},
   "outputs": [],
   "source": []
  },
  {
   "cell_type": "code",
   "execution_count": 20,
   "metadata": {},
   "outputs": [],
   "source": [
    "import os \n",
    "from WineQPrediction import logger\n",
    "from sklearn.model_selection import train_test_split\n",
    "import pandas as pd\n",
    "import seaborn as sns\n",
    "import matplotlib.pyplot as plt\n",
    "\n",
    "from imblearn.over_sampling import SMOTE\n",
    "\n",
    "class DataTransformation:\n",
    "    \n",
    "    def __init__(self,config: DataTransformationConfig):\n",
    "        self.config = config\n",
    "        \n",
    "    def feature_selection(self) -> pd.DataFrame:\n",
    "        data = pd.read_csv(\"data-cleaned.csv\")\n",
    "        \n",
    "        print(data['quality'].unique())\n",
    "        \n",
    "        #if wine quality is 7 or above then we will consider it as good(1) else bad(0)\n",
    "        data['quality'] = data['quality'].apply(lambda x: 1 if x >= 7 else 0)\n",
    "        \n",
    "        print(f\"No of good vs bad vine Samples :{data['good_quality'].value_counts()}\")\n",
    "        \n",
    "        return data\n",
    "       \n",
    "    \n",
    "    def train_test_splitting(self):\n",
    "        data1 = self.feature_selection()\n",
    "        X = data1[['fixed acidity', 'volatile acidity', 'sulphates', 'alcohol', 'density']]\n",
    "        y = data1.quality\n",
    "        oversample = SMOTE()\n",
    "        X_ros, y_ros = oversample.fit_resample(X, y)\n",
    "\n",
    "        sns.countplot(x=y_ros)\n",
    "        plt.xticks([0,1], ['bad wine','good wine'])\n",
    "        plt.title(\"Types of Wine\")\n",
    "         # Specify the directory path to save the graph\n",
    "        directory_path = \"Visualization/images\"\n",
    "        file_name = \"wine_quality.png\"\n",
    "        file_path = os.path.join(directory_path, file_name)\n",
    "        # Save the graph to the specified directory\n",
    "        plt.savefig(file_path)\n",
    "\n",
    "        plt.show()\n",
    "       \n",
    "        df_rejoined = pd.concat([X_ros, y_ros], axis=1)\n",
    "        \n",
    "        data1 = self.feature_selection()\n",
    "        \n",
    "        train , test = train_test_split(data1)\n",
    "        \n",
    "        train.to_csv(os.path.join(self.config.root_dir, 'train.csv'),index=False)\n",
    "        test.to_csv(os.path.join(self.config.root_dir, 'test.csv'),index=False)\n",
    "        \n",
    "        \n",
    "        logger.info(f\"Train and Test data saved at {self.config.root_dir}\")\n",
    "        logger.info(f\"Train_data:{train.shape}\")\n",
    "        logger.info(f\"Test_data:{test.shape}\")\n",
    "        \n",
    " \n",
    "    \n",
    "        \n",
    "        \n",
    "        "
   ]
  },
  {
   "cell_type": "code",
   "execution_count": 21,
   "metadata": {},
   "outputs": [
    {
     "name": "stdout",
     "output_type": "stream",
     "text": [
      "[2024-06-03 10:17:56,377]: INFO: common yaml file: config\\config.yaml loaded successfully]\n",
      "[2024-06-03 10:17:56,419]: INFO: common yaml file: params.yaml loaded successfully]\n",
      "[2024-06-03 10:17:56,423]: INFO: common yaml file: Schema.yaml loaded successfully]\n",
      "[2024-06-03 10:17:56,425]: INFO: common created directory at: artifacts_root]\n",
      "[2024-06-03 10:17:56,426]: INFO: common created directory at: artifacts/data_transformation]\n"
     ]
    },
    {
     "name": "stdout",
     "output_type": "stream",
     "text": [
      "[5.  6.  7.  4.  7.5 3.5]\n",
      "No of good vs bad vine Samples :good_quality\n",
      "0    1382\n",
      "1     217\n",
      "Name: count, dtype: int64\n",
      "[2024-06-03 10:17:56,866]: INFO: category Using categorical units to plot a list of strings that are all parsable as floats or dates. If these strings should be plotted as numbers, cast to the appropriate data type before plotting.]\n",
      "[2024-06-03 10:17:56,968]: INFO: category Using categorical units to plot a list of strings that are all parsable as floats or dates. If these strings should be plotted as numbers, cast to the appropriate data type before plotting.]\n"
     ]
    },
    {
     "data": {
      "image/png": "[encoded data removed]",
      "text/plain": [
       "<Figure size 640x480 with 1 Axes>"
      ]
     },
     "metadata": {},
     "output_type": "display_data"
    },
    {
     "name": "stdout",
     "output_type": "stream",
     "text": [
      "[5.  6.  7.  4.  7.5 3.5]\n",
      "No of good vs bad vine Samples :good_quality\n",
      "0    1382\n",
      "1     217\n",
      "Name: count, dtype: int64\n",
      "[2024-06-03 10:17:57,716]: INFO: 2181636583 Train and Test data saved at artifacts/data_transformation]\n",
      "[2024-06-03 10:17:57,717]: INFO: 2181636583 Train_data:(1199, 14)]\n",
      "[2024-06-03 10:17:57,718]: INFO: 2181636583 Test_data:(400, 14)]\n"
     ]
    }
   ],
   "source": [
    "try:\n",
    "    config = ConfigurationManager()\n",
    "    data_transformation_config = config.get_data_transformation_config()\n",
    "    data_transformation = DataTransformation(config=data_transformation_config)\n",
    "    data_transformation.train_test_splitting()\n",
    "except Exception as e:\n",
    "    raise e"
   ]
  },
  {
   "cell_type": "code",
   "execution_count": null,
   "metadata": {},
   "outputs": [],
   "source": []
  },
  {
   "cell_type": "code",
   "execution_count": null,
   "metadata": {},
   "outputs": [],
   "source": []
  },
  {
   "cell_type": "code",
   "execution_count": null,
   "metadata": {},
   "outputs": [],
   "source": []
  },
  {
   "cell_type": "code",
   "execution_count": null,
   "metadata": {},
   "outputs": [],
   "source": []
  },
  {
   "cell_type": "code",
   "execution_count": null,
   "metadata": {},
   "outputs": [],
   "source": []
  },
  {
   "cell_type": "code",
   "execution_count": null,
   "metadata": {},
   "outputs": [],
   "source": []
  },
  {
   "cell_type": "code",
   "execution_count": null,
   "metadata": {},
   "outputs": [],
   "source": []
  },
  {
   "cell_type": "code",
   "execution_count": null,
   "metadata": {},
   "outputs": [],
   "source": []
  },
  {
   "cell_type": "code",
   "execution_count": null,
   "metadata": {},
   "outputs": [],
   "source": []
  },
  {
   "cell_type": "code",
   "execution_count": null,
   "metadata": {},
   "outputs": [],
   "source": []
  },
  {
   "cell_type": "code",
   "execution_count": null,
   "metadata": {},
   "outputs": [],
   "source": []
  },
  {
   "cell_type": "code",
   "execution_count": null,
   "metadata": {},
   "outputs": [],
   "source": []
  },
  {
   "cell_type": "code",
   "execution_count": null,
   "metadata": {},
   "outputs": [],
   "source": []
  },
  {
   "cell_type": "code",
   "execution_count": null,
   "metadata": {},
   "outputs": [],
   "source": []
  }
 ],
 "metadata": {
  "kernelspec": {
   "display_name": "Python 3",
   "language": "python",
   "name": "python3"
  },
  "language_info": {
   "codemirror_mode": {
    "name": "ipython",
    "version": 3
   },
   "file_extension": ".py",
   "mimetype": "text/x-python",
   "name": "python",
   "nbconvert_exporter": "python",
   "pygments_lexer": "ipython3",
   "version": "3.11.5"
  }
 },
 "nbformat": 4,
 "nbformat_minor": 2
}
